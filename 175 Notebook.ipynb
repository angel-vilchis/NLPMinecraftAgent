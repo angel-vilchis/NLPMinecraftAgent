{
 "cells": [
  {
   "cell_type": "markdown",
   "id": "668b5334",
   "metadata": {},
   "source": [
    "# Malmo Project Few-Shot Learning"
   ]
  },
  {
   "cell_type": "markdown",
   "id": "03c43fdc",
   "metadata": {},
   "source": [
    "Guide: https://huggingface.co/blog/setfit\n",
    "\n",
    "Requires Python 3.7+"
   ]
  },
  {
   "cell_type": "markdown",
   "id": "f7b2d83c",
   "metadata": {},
   "source": [
    "`pip install notebook seaborn pandas datasets setfit sentence-transformers torch torchvision torchaudio --extra-index-url https://download.pytorch.org/whl/cu116`"
   ]
  },
  {
   "cell_type": "code",
   "execution_count": 1,
   "id": "d6fba8a7",
   "metadata": {},
   "outputs": [],
   "source": [
    "import pandas as pd\n",
    "from datasets import load_dataset\n",
    "from sentence_transformers.losses import CosineSimilarityLoss\n",
    "from setfit import SetFitModel, SetFitTrainer\n",
    "import torch"
   ]
  },
  {
   "cell_type": "code",
   "execution_count": 2,
   "id": "f963b94e",
   "metadata": {},
   "outputs": [
    {
     "data": {
      "text/plain": [
       "True"
      ]
     },
     "execution_count": 2,
     "metadata": {},
     "output_type": "execute_result"
    }
   ],
   "source": [
    "# checking for gpu\n",
    "torch.cuda.is_available()"
   ]
  },
  {
   "cell_type": "code",
   "execution_count": 3,
   "id": "a515fa24",
   "metadata": {},
   "outputs": [
    {
     "data": {
      "text/html": [
       "<div>\n",
       "<style scoped>\n",
       "    .dataframe tbody tr th:only-of-type {\n",
       "        vertical-align: middle;\n",
       "    }\n",
       "\n",
       "    .dataframe tbody tr th {\n",
       "        vertical-align: top;\n",
       "    }\n",
       "\n",
       "    .dataframe thead th {\n",
       "        text-align: right;\n",
       "    }\n",
       "</style>\n",
       "<table border=\"1\" class=\"dataframe\">\n",
       "  <thead>\n",
       "    <tr style=\"text-align: right;\">\n",
       "      <th></th>\n",
       "      <th>text</th>\n",
       "      <th>label</th>\n",
       "      <th>task_name</th>\n",
       "    </tr>\n",
       "  </thead>\n",
       "  <tbody>\n",
       "    <tr>\n",
       "      <th>100</th>\n",
       "      <td>Look upwards</td>\n",
       "      <td>13</td>\n",
       "      <td>Pitch upwards</td>\n",
       "    </tr>\n",
       "    <tr>\n",
       "      <th>157</th>\n",
       "      <td>Begin punching</td>\n",
       "      <td>21</td>\n",
       "      <td>Start attacking</td>\n",
       "    </tr>\n",
       "    <tr>\n",
       "      <th>75</th>\n",
       "      <td>Advance forwards</td>\n",
       "      <td>9</td>\n",
       "      <td>Move forward</td>\n",
       "    </tr>\n",
       "    <tr>\n",
       "      <th>5</th>\n",
       "      <td>Use the chest</td>\n",
       "      <td>0</td>\n",
       "      <td>Open chest</td>\n",
       "    </tr>\n",
       "    <tr>\n",
       "      <th>61</th>\n",
       "      <td>Step indoors</td>\n",
       "      <td>7</td>\n",
       "      <td>Go inside door</td>\n",
       "    </tr>\n",
       "  </tbody>\n",
       "</table>\n",
       "</div>"
      ],
      "text/plain": [
       "                 text  label        task_name\n",
       "100      Look upwards     13    Pitch upwards\n",
       "157    Begin punching     21  Start attacking\n",
       "75   Advance forwards      9     Move forward\n",
       "5       Use the chest      0       Open chest\n",
       "61       Step indoors      7   Go inside door"
      ]
     },
     "execution_count": 3,
     "metadata": {},
     "output_type": "execute_result"
    }
   ],
   "source": [
    "# reading csv files train and test\n",
    "label_names = {\n",
    "    0: \"Open chest\", \n",
    "    1: \"Smell plant\",\n",
    "    2: \"Go to mob\",\n",
    "    3: \"Jump in water\", \n",
    "    4: \"Sit next to campfire\",\n",
    "    5: \"Play music\",\n",
    "    6: \"Go through fence\",\n",
    "    7: \"Go inside door\",\n",
    "    8: \"Talk to user\",\n",
    "    9: \"Move forward\",\n",
    "    10: \"Move backward\",\n",
    "    11: \"Strafe left\",\n",
    "    12: \"Strafe right\",\n",
    "    13: \"Pitch upwards\",\n",
    "    14: \"Pitch downwards\",\n",
    "    15: \"Turn left\",\n",
    "    16: \"Turn right\",\n",
    "    17: \"Start jumping\",\n",
    "    18: \"Stop movement\",\n",
    "    19: \"Start crouching\",\n",
    "    20: \"Stop crouching\",\n",
    "    21: \"Start attacking\",\n",
    "    22: \"Stop attacking\",\n",
    "    23: \"Use this\",\n",
    "    24: \"Stop using this\"\n",
    "}\n",
    "\n",
    "dtypes = {\"text\": str, \"label\": \"int8\"}\n",
    "train_df = pd.read_csv(\"train.csv\", dtype=dtypes)\n",
    "test_df = pd.read_csv(\"test.csv\", dtype=dtypes)\n",
    "\n",
    "sample = train_df.sample(5)\n",
    "sample[\"task_name\"] = sample[\"label\"].map(label_names)\n",
    "sample"
   ]
  },
  {
   "cell_type": "code",
   "execution_count": 4,
   "id": "635d904b",
   "metadata": {},
   "outputs": [
    {
     "name": "stdout",
     "output_type": "stream",
     "text": [
      "Accuracy: 0.05\n"
     ]
    },
    {
     "data": {
      "text/html": [
       "<div>\n",
       "<style scoped>\n",
       "    .dataframe tbody tr th:only-of-type {\n",
       "        vertical-align: middle;\n",
       "    }\n",
       "\n",
       "    .dataframe tbody tr th {\n",
       "        vertical-align: top;\n",
       "    }\n",
       "\n",
       "    .dataframe thead th {\n",
       "        text-align: right;\n",
       "    }\n",
       "</style>\n",
       "<table border=\"1\" class=\"dataframe\">\n",
       "  <thead>\n",
       "    <tr style=\"text-align: right;\">\n",
       "      <th></th>\n",
       "      <th>text</th>\n",
       "      <th>label</th>\n",
       "      <th>pred</th>\n",
       "    </tr>\n",
       "  </thead>\n",
       "  <tbody>\n",
       "    <tr>\n",
       "      <th>0</th>\n",
       "      <td>Hey Jerry, open that container</td>\n",
       "      <td>0</td>\n",
       "      <td>5</td>\n",
       "    </tr>\n",
       "    <tr>\n",
       "      <th>1</th>\n",
       "      <td>Get me item from storage</td>\n",
       "      <td>0</td>\n",
       "      <td>10</td>\n",
       "    </tr>\n",
       "    <tr>\n",
       "      <th>2</th>\n",
       "      <td>Open that storage and get me something</td>\n",
       "      <td>0</td>\n",
       "      <td>10</td>\n",
       "    </tr>\n",
       "    <tr>\n",
       "      <th>3</th>\n",
       "      <td>Get me diamonds from that chest</td>\n",
       "      <td>0</td>\n",
       "      <td>10</td>\n",
       "    </tr>\n",
       "    <tr>\n",
       "      <th>4</th>\n",
       "      <td>Go to plant in the world</td>\n",
       "      <td>1</td>\n",
       "      <td>2</td>\n",
       "    </tr>\n",
       "    <tr>\n",
       "      <th>...</th>\n",
       "      <td>...</td>\n",
       "      <td>...</td>\n",
       "      <td>...</td>\n",
       "    </tr>\n",
       "    <tr>\n",
       "      <th>95</th>\n",
       "      <td>Open this</td>\n",
       "      <td>23</td>\n",
       "      <td>13</td>\n",
       "    </tr>\n",
       "    <tr>\n",
       "      <th>96</th>\n",
       "      <td>Hey Jerry, close this item</td>\n",
       "      <td>24</td>\n",
       "      <td>2</td>\n",
       "    </tr>\n",
       "    <tr>\n",
       "      <th>97</th>\n",
       "      <td>Let's close this item</td>\n",
       "      <td>24</td>\n",
       "      <td>2</td>\n",
       "    </tr>\n",
       "    <tr>\n",
       "      <th>98</th>\n",
       "      <td>Lets shut this closed</td>\n",
       "      <td>24</td>\n",
       "      <td>13</td>\n",
       "    </tr>\n",
       "    <tr>\n",
       "      <th>99</th>\n",
       "      <td>Stop using this chest</td>\n",
       "      <td>24</td>\n",
       "      <td>5</td>\n",
       "    </tr>\n",
       "  </tbody>\n",
       "</table>\n",
       "<p>100 rows × 3 columns</p>\n",
       "</div>"
      ],
      "text/plain": [
       "                                      text  label  pred\n",
       "0           Hey Jerry, open that container      0     5\n",
       "1                 Get me item from storage      0    10\n",
       "2   Open that storage and get me something      0    10\n",
       "3          Get me diamonds from that chest      0    10\n",
       "4                 Go to plant in the world      1     2\n",
       "..                                     ...    ...   ...\n",
       "95                               Open this     23    13\n",
       "96              Hey Jerry, close this item     24     2\n",
       "97                   Let's close this item     24     2\n",
       "98                   Lets shut this closed     24    13\n",
       "99                   Stop using this chest     24     5\n",
       "\n",
       "[100 rows x 3 columns]"
      ]
     },
     "execution_count": 4,
     "metadata": {},
     "output_type": "execute_result"
    }
   ],
   "source": [
    "from sklearn.dummy import DummyClassifier\n",
    "# Baseline, Random\n",
    "df = pd.read_csv(\"test.csv\")\n",
    "instances = df[\"text\"].to_list()\n",
    "\n",
    "train = pd.read_csv(\"train.csv\")\n",
    "X_train, y_train = train[\"text\"], train[\"label\"]\n",
    "model = DummyClassifier(strategy=\"uniform\").fit(X_train, y_train)\n",
    "df[\"pred\"] = model.predict(instances)\n",
    "\n",
    "print(f\"Accuracy: {len(df[df['label']==df['pred']]) / len(df)}\")\n",
    "df"
   ]
  },
  {
   "cell_type": "code",
   "execution_count": 5,
   "id": "26ab3fa9",
   "metadata": {},
   "outputs": [
    {
     "name": "stderr",
     "output_type": "stream",
     "text": [
      "model_head.pkl not found on HuggingFace Hub, initialising classification head with random weights. You should TRAIN this model on a downstream task to use it for predictions and inference.\n"
     ]
    },
    {
     "data": {
      "text/plain": [
       "SetFitModel()"
      ]
     },
     "execution_count": 5,
     "metadata": {},
     "output_type": "execute_result"
    }
   ],
   "source": [
    "# loading pretrained model as guide\n",
    "model = SetFitModel.from_pretrained(\"sentence-transformers/paraphrase-mpnet-base-v2\")\n",
    "model"
   ]
  },
  {
   "cell_type": "code",
   "execution_count": 6,
   "id": "bf00c202",
   "metadata": {},
   "outputs": [
    {
     "name": "stderr",
     "output_type": "stream",
     "text": [
      "Using custom data configuration default-f10f53e652a53f8c\n",
      "Found cached dataset csv (C:/Users/Angel/.cache/huggingface/datasets/csv/default-f10f53e652a53f8c/0.0.0/6b34fb8fcf56f7c8ba51dc895bfa2bfbe43546f190a60fcf74bb5e8afdcc2317)\n"
     ]
    },
    {
     "data": {
      "application/vnd.jupyter.widget-view+json": {
       "model_id": "3b4339c74a9948aaa6358807f9400e54",
       "version_major": 2,
       "version_minor": 0
      },
      "text/plain": [
       "  0%|          | 0/2 [00:00<?, ?it/s]"
      ]
     },
     "metadata": {},
     "output_type": "display_data"
    },
    {
     "data": {
      "text/plain": [
       "DatasetDict({\n",
       "    train: Dataset({\n",
       "        features: ['text', 'label'],\n",
       "        num_rows: 182\n",
       "    })\n",
       "    test: Dataset({\n",
       "        features: ['text', 'label'],\n",
       "        num_rows: 100\n",
       "    })\n",
       "})"
      ]
     },
     "execution_count": 6,
     "metadata": {},
     "output_type": "execute_result"
    }
   ],
   "source": [
    "# loading own dataset instead of the one in the guide\n",
    "data_files = {\"train\": \"train.csv\", \"test\": \"test.csv\"}\n",
    "dataset = load_dataset(\"csv\", data_files=data_files)\n",
    "dataset"
   ]
  },
  {
   "cell_type": "code",
   "execution_count": 7,
   "id": "3c61343a",
   "metadata": {},
   "outputs": [],
   "source": [
    "# building trainer as guide shows\n",
    "trainer = SetFitTrainer(\n",
    "    model=model,\n",
    "    train_dataset=dataset[\"train\"],\n",
    "    eval_dataset=dataset[\"test\"],\n",
    "    loss_class=CosineSimilarityLoss,\n",
    "    batch_size=4,\n",
    "    num_iterations=20, # Number of text pairs to generate for contrastive learning\n",
    "    num_epochs=1 # Number of epochs to use for contrastive learning\n",
    ")"
   ]
  },
  {
   "cell_type": "code",
   "execution_count": 8,
   "id": "1f96d7ac",
   "metadata": {
    "scrolled": false
   },
   "outputs": [
    {
     "name": "stderr",
     "output_type": "stream",
     "text": [
      "***** Running training *****\n",
      "  Num examples = 7280\n",
      "  Num epochs = 1\n",
      "  Total optimization steps = 1820\n",
      "  Total train batch size = 4\n"
     ]
    },
    {
     "data": {
      "application/vnd.jupyter.widget-view+json": {
       "model_id": "4a2ed6b225494719802e11a54ecad4b7",
       "version_major": 2,
       "version_minor": 0
      },
      "text/plain": [
       "Epoch:   0%|          | 0/1 [00:00<?, ?it/s]"
      ]
     },
     "metadata": {},
     "output_type": "display_data"
    },
    {
     "data": {
      "application/vnd.jupyter.widget-view+json": {
       "model_id": "f7769edff2cb43a69b71005ffe6f4537",
       "version_major": 2,
       "version_minor": 0
      },
      "text/plain": [
       "Iteration:   0%|          | 0/1820 [00:00<?, ?it/s]"
      ]
     },
     "metadata": {},
     "output_type": "display_data"
    }
   ],
   "source": [
    "# training and getting metrics as shows on guide(just accuracy, I guess)\n",
    "trainer.train()\n",
    "metrics = trainer.evaluate()\n",
    "metrics"
   ]
  },
  {
   "cell_type": "code",
   "execution_count": null,
   "id": "6093b6ce",
   "metadata": {},
   "outputs": [
    {
     "name": "stdout",
     "output_type": "stream",
     "text": [
      "Accuracy: 0.96\n"
     ]
    },
    {
     "data": {
      "text/html": [
       "<div>\n",
       "<style scoped>\n",
       "    .dataframe tbody tr th:only-of-type {\n",
       "        vertical-align: middle;\n",
       "    }\n",
       "\n",
       "    .dataframe tbody tr th {\n",
       "        vertical-align: top;\n",
       "    }\n",
       "\n",
       "    .dataframe thead th {\n",
       "        text-align: right;\n",
       "    }\n",
       "</style>\n",
       "<table border=\"1\" class=\"dataframe\">\n",
       "  <thead>\n",
       "    <tr style=\"text-align: right;\">\n",
       "      <th></th>\n",
       "      <th>text</th>\n",
       "      <th>label</th>\n",
       "      <th>pred</th>\n",
       "      <th>prob</th>\n",
       "    </tr>\n",
       "  </thead>\n",
       "  <tbody>\n",
       "    <tr>\n",
       "      <th>0</th>\n",
       "      <td>Hey Jerry, open that container</td>\n",
       "      <td>0</td>\n",
       "      <td>0</td>\n",
       "      <td>0.863569</td>\n",
       "    </tr>\n",
       "    <tr>\n",
       "      <th>1</th>\n",
       "      <td>Get me item from storage</td>\n",
       "      <td>0</td>\n",
       "      <td>0</td>\n",
       "      <td>0.641588</td>\n",
       "    </tr>\n",
       "    <tr>\n",
       "      <th>2</th>\n",
       "      <td>Open that storage and get me something</td>\n",
       "      <td>0</td>\n",
       "      <td>0</td>\n",
       "      <td>0.716273</td>\n",
       "    </tr>\n",
       "    <tr>\n",
       "      <th>3</th>\n",
       "      <td>Get me diamonds from that chest</td>\n",
       "      <td>0</td>\n",
       "      <td>0</td>\n",
       "      <td>0.929384</td>\n",
       "    </tr>\n",
       "    <tr>\n",
       "      <th>4</th>\n",
       "      <td>Go to plant in the world</td>\n",
       "      <td>1</td>\n",
       "      <td>1</td>\n",
       "      <td>0.935303</td>\n",
       "    </tr>\n",
       "    <tr>\n",
       "      <th>...</th>\n",
       "      <td>...</td>\n",
       "      <td>...</td>\n",
       "      <td>...</td>\n",
       "      <td>...</td>\n",
       "    </tr>\n",
       "    <tr>\n",
       "      <th>95</th>\n",
       "      <td>Open this</td>\n",
       "      <td>23</td>\n",
       "      <td>23</td>\n",
       "      <td>0.938161</td>\n",
       "    </tr>\n",
       "    <tr>\n",
       "      <th>96</th>\n",
       "      <td>Hey Jerry, close this item</td>\n",
       "      <td>24</td>\n",
       "      <td>24</td>\n",
       "      <td>0.758160</td>\n",
       "    </tr>\n",
       "    <tr>\n",
       "      <th>97</th>\n",
       "      <td>Let's close this item</td>\n",
       "      <td>24</td>\n",
       "      <td>24</td>\n",
       "      <td>0.729666</td>\n",
       "    </tr>\n",
       "    <tr>\n",
       "      <th>98</th>\n",
       "      <td>Lets shut this closed</td>\n",
       "      <td>24</td>\n",
       "      <td>24</td>\n",
       "      <td>0.439903</td>\n",
       "    </tr>\n",
       "    <tr>\n",
       "      <th>99</th>\n",
       "      <td>Stop using this chest</td>\n",
       "      <td>24</td>\n",
       "      <td>24</td>\n",
       "      <td>0.798945</td>\n",
       "    </tr>\n",
       "  </tbody>\n",
       "</table>\n",
       "<p>100 rows × 4 columns</p>\n",
       "</div>"
      ],
      "text/plain": [
       "                                      text  label  pred      prob\n",
       "0           Hey Jerry, open that container      0     0  0.863569\n",
       "1                 Get me item from storage      0     0  0.641588\n",
       "2   Open that storage and get me something      0     0  0.716273\n",
       "3          Get me diamonds from that chest      0     0  0.929384\n",
       "4                 Go to plant in the world      1     1  0.935303\n",
       "..                                     ...    ...   ...       ...\n",
       "95                               Open this     23    23  0.938161\n",
       "96              Hey Jerry, close this item     24    24  0.758160\n",
       "97                   Let's close this item     24    24  0.729666\n",
       "98                   Lets shut this closed     24    24  0.439903\n",
       "99                   Stop using this chest     24    24  0.798945\n",
       "\n",
       "[100 rows x 4 columns]"
      ]
     },
     "execution_count": 9,
     "metadata": {},
     "output_type": "execute_result"
    }
   ],
   "source": [
    "# Test/New Instance Results\n",
    "df = pd.read_csv(\"test.csv\")\n",
    "instances = df[\"text\"].to_list()\n",
    "df[\"pred\"] = model(instances)\n",
    "df[\"prob\"] = torch.max(model.predict_proba(instances), axis=1).values\n",
    "\n",
    "print(f\"Accuracy: {len(df[df['label']==df['pred']]) / len(df)}\")\n",
    "df"
   ]
  },
  {
   "cell_type": "code",
   "execution_count": null,
   "id": "f5169515",
   "metadata": {},
   "outputs": [
    {
     "data": {
      "text/html": [
       "<div>\n",
       "<style scoped>\n",
       "    .dataframe tbody tr th:only-of-type {\n",
       "        vertical-align: middle;\n",
       "    }\n",
       "\n",
       "    .dataframe tbody tr th {\n",
       "        vertical-align: top;\n",
       "    }\n",
       "\n",
       "    .dataframe thead th {\n",
       "        text-align: right;\n",
       "    }\n",
       "</style>\n",
       "<table border=\"1\" class=\"dataframe\">\n",
       "  <thead>\n",
       "    <tr style=\"text-align: right;\">\n",
       "      <th></th>\n",
       "      <th>text</th>\n",
       "      <th>label</th>\n",
       "      <th>pred</th>\n",
       "      <th>prob</th>\n",
       "    </tr>\n",
       "  </thead>\n",
       "  <tbody>\n",
       "    <tr>\n",
       "      <th>37</th>\n",
       "      <td>Please move directly to your north</td>\n",
       "      <td>9</td>\n",
       "      <td>12</td>\n",
       "      <td>0.885430</td>\n",
       "    </tr>\n",
       "    <tr>\n",
       "      <th>62</th>\n",
       "      <td>Start turning opposite of how clock moves</td>\n",
       "      <td>15</td>\n",
       "      <td>18</td>\n",
       "      <td>0.278570</td>\n",
       "    </tr>\n",
       "    <tr>\n",
       "      <th>66</th>\n",
       "      <td>Turn how a clock does</td>\n",
       "      <td>16</td>\n",
       "      <td>10</td>\n",
       "      <td>0.296062</td>\n",
       "    </tr>\n",
       "    <tr>\n",
       "      <th>69</th>\n",
       "      <td>Try to touch the sky</td>\n",
       "      <td>17</td>\n",
       "      <td>13</td>\n",
       "      <td>0.755884</td>\n",
       "    </tr>\n",
       "  </tbody>\n",
       "</table>\n",
       "</div>"
      ],
      "text/plain": [
       "                                         text  label  pred      prob\n",
       "37         Please move directly to your north      9    12  0.885430\n",
       "62  Start turning opposite of how clock moves     15    18  0.278570\n",
       "66                      Turn how a clock does     16    10  0.296062\n",
       "69                       Try to touch the sky     17    13  0.755884"
      ]
     },
     "execution_count": 10,
     "metadata": {},
     "output_type": "execute_result"
    }
   ],
   "source": [
    "df[df.label != df.pred]"
   ]
  },
  {
   "cell_type": "code",
   "execution_count": null,
   "id": "ed65a4ea",
   "metadata": {},
   "outputs": [],
   "source": [
    "from sklearn.metrics import confusion_matrix\n",
    "cm = confusion_matrix(df[\"label\"], df[\"pred\"])"
   ]
  },
  {
   "cell_type": "code",
   "execution_count": null,
   "id": "35f15c20",
   "metadata": {},
   "outputs": [
    {
     "data": {
      "image/png": "[encoded data removed]",
      "text/plain": [
       "<Figure size 640x480 with 2 Axes>"
      ]
     },
     "metadata": {},
     "output_type": "display_data"
    }
   ],
   "source": [
    "import seaborn as sns\n",
    "import matplotlib.pyplot as plt\n",
    "\n",
    "# Just plotting for easier read\n",
    "ax = plt.subplot()\n",
    "sns.heatmap(cm, annot=True, fmt='g', ax=ax)\n",
    "ax.set_xlabel('Predicted');ax.set_ylabel('Ground Truth'); \n",
    "ax.set_title('Confusion Matrix'); \n",
    "ax.xaxis.set_ticklabels(label_names); ax.yaxis.set_ticklabels(label_names);"
   ]
  },
  {
   "cell_type": "code",
   "execution_count": null,
   "id": "c880464b",
   "metadata": {},
   "outputs": [],
   "source": [
    "# Saving model\n",
    "trainer.model.save_pretrained(\"malmoTextClassifier\")"
   ]
  }
 ],
 "metadata": {
  "kernelspec": {
   "display_name": "Python 3 (ipykernel)",
   "language": "python",
   "name": "python3"
  },
  "language_info": {
   "codemirror_mode": {
    "name": "ipython",
    "version": 3
   },
   "file_extension": ".py",
   "mimetype": "text/x-python",
   "name": "python",
   "nbconvert_exporter": "python",
   "pygments_lexer": "ipython3",
   "version": "3.9.13"
  }
 },
 "nbformat": 4,
 "nbformat_minor": 5
}
