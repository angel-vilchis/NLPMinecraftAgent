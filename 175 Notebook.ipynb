{
 "cells": [
  {
   "cell_type": "markdown",
   "id": "668b5334",
   "metadata": {},
   "source": [
    "# Malmo Project Few-Shot Learning"
   ]
  },
  {
   "cell_type": "markdown",
   "id": "03c43fdc",
   "metadata": {},
   "source": [
    "Guide: https://huggingface.co/blog/setfit\n",
    "\n",
    "Requires Python 3.7+"
   ]
  },
  {
   "cell_type": "markdown",
   "id": "f7b2d83c",
   "metadata": {},
   "source": [
    "`pip install notebook seaborn pandas datasets setfit sentence-transformers torch torchvision torchaudio --extra-index-url https://download.pytorch.org/whl/cu116`"
   ]
  },
  {
   "cell_type": "code",
   "execution_count": 13,
   "id": "d6fba8a7",
   "metadata": {},
   "outputs": [],
   "source": [
    "import pandas as pd\n",
    "from datasets import load_dataset\n",
    "from sentence_transformers.losses import CosineSimilarityLoss\n",
    "from setfit import SetFitModel, SetFitTrainer\n",
    "import torch"
   ]
  },
  {
   "cell_type": "code",
   "execution_count": 14,
   "id": "f963b94e",
   "metadata": {},
   "outputs": [
    {
     "data": {
      "text/plain": [
       "True"
      ]
     },
     "execution_count": 14,
     "metadata": {},
     "output_type": "execute_result"
    }
   ],
   "source": [
    "# checking for gpu\n",
    "torch.cuda.is_available()"
   ]
  },
  {
   "cell_type": "code",
   "execution_count": 15,
   "id": "a515fa24",
   "metadata": {},
   "outputs": [
    {
     "data": {
      "text/html": [
       "<div>\n",
       "<style scoped>\n",
       "    .dataframe tbody tr th:only-of-type {\n",
       "        vertical-align: middle;\n",
       "    }\n",
       "\n",
       "    .dataframe tbody tr th {\n",
       "        vertical-align: top;\n",
       "    }\n",
       "\n",
       "    .dataframe thead th {\n",
       "        text-align: right;\n",
       "    }\n",
       "</style>\n",
       "<table border=\"1\" class=\"dataframe\">\n",
       "  <thead>\n",
       "    <tr style=\"text-align: right;\">\n",
       "      <th></th>\n",
       "      <th>text</th>\n",
       "      <th>label</th>\n",
       "      <th>task_name</th>\n",
       "    </tr>\n",
       "  </thead>\n",
       "  <tbody>\n",
       "    <tr>\n",
       "      <th>41</th>\n",
       "      <td>Sit by the fire</td>\n",
       "      <td>4</td>\n",
       "      <td>Sit next to campfire</td>\n",
       "    </tr>\n",
       "    <tr>\n",
       "      <th>89</th>\n",
       "      <td>Let us strafe left</td>\n",
       "      <td>11</td>\n",
       "      <td>Strafe left</td>\n",
       "    </tr>\n",
       "    <tr>\n",
       "      <th>61</th>\n",
       "      <td>Go inside house</td>\n",
       "      <td>7</td>\n",
       "      <td>Go inside door</td>\n",
       "    </tr>\n",
       "    <tr>\n",
       "      <th>107</th>\n",
       "      <td>Turn right</td>\n",
       "      <td>16</td>\n",
       "      <td>Turn right</td>\n",
       "    </tr>\n",
       "    <tr>\n",
       "      <th>45</th>\n",
       "      <td>Heat up next to that fire</td>\n",
       "      <td>4</td>\n",
       "      <td>Sit next to campfire</td>\n",
       "    </tr>\n",
       "  </tbody>\n",
       "</table>\n",
       "</div>"
      ],
      "text/plain": [
       "                          text  label             task_name\n",
       "41             Sit by the fire      4  Sit next to campfire\n",
       "89          Let us strafe left     11           Strafe left\n",
       "61             Go inside house      7        Go inside door\n",
       "107                 Turn right     16            Turn right\n",
       "45   Heat up next to that fire      4  Sit next to campfire"
      ]
     },
     "execution_count": 15,
     "metadata": {},
     "output_type": "execute_result"
    }
   ],
   "source": [
    "# reading csv files train and test\n",
    "label_names = {\n",
    "    0: \"Open chest\", \n",
    "    1: \"Smell plant\",\n",
    "    2: \"Go to mob\",\n",
    "    3: \"Jump in water\", \n",
    "    4: \"Sit next to campfire\",\n",
    "    5: \"Play music\",\n",
    "    6: \"Go through fence\",\n",
    "    7: \"Go inside door\",\n",
    "    8: \"Talk to user\",\n",
    "    9: \"Move forward\",\n",
    "    10: \"Move backward\",\n",
    "    11: \"Strafe left\",\n",
    "    12: \"Strafe right\",\n",
    "    13: \"Pitch upwards\",\n",
    "    14: \"Pitch downwards\",\n",
    "    15: \"Turn left\",\n",
    "    16: \"Turn right\",\n",
    "    17: \"Start jumping\",\n",
    "    18: \"Stop movement\",\n",
    "    19: \"Start crouching\",\n",
    "    20: \"Stop crouching\",\n",
    "    21: \"Start attacking\",\n",
    "    22: \"Stop attacking\",\n",
    "    23: \"Use this\",\n",
    "    24: \"Stop using this\"\n",
    "}\n",
    "\n",
    "dtypes = {\"text\": str, \"label\": \"int8\"}\n",
    "train_df = pd.read_csv(\"train.csv\", dtype=dtypes)\n",
    "test_df = pd.read_csv(\"test.csv\", dtype=dtypes)\n",
    "\n",
    "sample = train_df.sample(5)\n",
    "sample[\"task_name\"] = sample[\"label\"].map(label_names)\n",
    "sample"
   ]
  },
  {
   "cell_type": "code",
   "execution_count": 16,
   "id": "26ab3fa9",
   "metadata": {},
   "outputs": [
    {
     "name": "stderr",
     "output_type": "stream",
     "text": [
      "model_head.pkl not found on HuggingFace Hub, initialising classification head with random weights. You should TRAIN this model on a downstream task to use it for predictions and inference.\n"
     ]
    },
    {
     "data": {
      "text/plain": [
       "SetFitModel()"
      ]
     },
     "execution_count": 16,
     "metadata": {},
     "output_type": "execute_result"
    }
   ],
   "source": [
    "# loading pretrained model as guide\n",
    "model = SetFitModel.from_pretrained(\"sentence-transformers/paraphrase-mpnet-base-v2\")\n",
    "model"
   ]
  },
  {
   "cell_type": "code",
   "execution_count": 17,
   "id": "bf00c202",
   "metadata": {},
   "outputs": [
    {
     "name": "stdout",
     "output_type": "stream",
     "text": [
      "Downloading and preparing dataset csv/default to C:/Users/shah_/.cache/huggingface/datasets/csv/default-a84caa07ebc488fc/0.0.0/6b34fb8fcf56f7c8ba51dc895bfa2bfbe43546f190a60fcf74bb5e8afdcc2317...\n"
     ]
    },
    {
     "data": {
      "application/vnd.jupyter.widget-view+json": {
       "model_id": "658acf71efe74d80b6651ef69103bc9b",
       "version_major": 2,
       "version_minor": 0
      },
      "text/plain": [
       "Downloading data files:   0%|          | 0/2 [00:00<?, ?it/s]"
      ]
     },
     "metadata": {},
     "output_type": "display_data"
    },
    {
     "data": {
      "application/vnd.jupyter.widget-view+json": {
       "model_id": "83a08bf4042b43a68c68c01742ae50c6",
       "version_major": 2,
       "version_minor": 0
      },
      "text/plain": [
       "Extracting data files:   0%|          | 0/2 [00:00<?, ?it/s]"
      ]
     },
     "metadata": {},
     "output_type": "display_data"
    },
    {
     "data": {
      "application/vnd.jupyter.widget-view+json": {
       "model_id": "",
       "version_major": 2,
       "version_minor": 0
      },
      "text/plain": [
       "Generating train split: 0 examples [00:00, ? examples/s]"
      ]
     },
     "metadata": {},
     "output_type": "display_data"
    },
    {
     "data": {
      "application/vnd.jupyter.widget-view+json": {
       "model_id": "",
       "version_major": 2,
       "version_minor": 0
      },
      "text/plain": [
       "Generating test split: 0 examples [00:00, ? examples/s]"
      ]
     },
     "metadata": {},
     "output_type": "display_data"
    },
    {
     "name": "stdout",
     "output_type": "stream",
     "text": [
      "Dataset csv downloaded and prepared to C:/Users/shah_/.cache/huggingface/datasets/csv/default-a84caa07ebc488fc/0.0.0/6b34fb8fcf56f7c8ba51dc895bfa2bfbe43546f190a60fcf74bb5e8afdcc2317. Subsequent calls will reuse this data.\n"
     ]
    },
    {
     "data": {
      "application/vnd.jupyter.widget-view+json": {
       "model_id": "3256b06d8ee441858e5e9d613cb85b78",
       "version_major": 2,
       "version_minor": 0
      },
      "text/plain": [
       "  0%|          | 0/2 [00:00<?, ?it/s]"
      ]
     },
     "metadata": {},
     "output_type": "display_data"
    },
    {
     "data": {
      "text/plain": [
       "DatasetDict({\n",
       "    train: Dataset({\n",
       "        features: ['text', 'label'],\n",
       "        num_rows: 133\n",
       "    })\n",
       "    test: Dataset({\n",
       "        features: ['text', 'label'],\n",
       "        num_rows: 65\n",
       "    })\n",
       "})"
      ]
     },
     "execution_count": 17,
     "metadata": {},
     "output_type": "execute_result"
    }
   ],
   "source": [
    "# loading own dataset instead of the one in the guide\n",
    "data_files = {\"train\": \"train.csv\", \"test\": \"test.csv\"}\n",
    "dataset = load_dataset(\"csv\", data_files=data_files)\n",
    "dataset"
   ]
  },
  {
   "cell_type": "code",
   "execution_count": 18,
   "id": "3c61343a",
   "metadata": {},
   "outputs": [],
   "source": [
    "# building trainer as guide shows\n",
    "trainer = SetFitTrainer(\n",
    "    model=model,\n",
    "    train_dataset=dataset[\"train\"],\n",
    "    eval_dataset=dataset[\"test\"],\n",
    "    loss_class=CosineSimilarityLoss,\n",
    "    batch_size=4,\n",
    "    num_iterations=20, # Number of text pairs to generate for contrastive learning\n",
    "    num_epochs=1 # Number of epochs to use for contrastive learning\n",
    ")"
   ]
  },
  {
   "cell_type": "code",
   "execution_count": 19,
   "id": "1f96d7ac",
   "metadata": {
    "scrolled": false
   },
   "outputs": [
    {
     "name": "stderr",
     "output_type": "stream",
     "text": [
      "***** Running training *****\n",
      "  Num examples = 5320\n",
      "  Num epochs = 1\n",
      "  Total optimization steps = 1330\n",
      "  Total train batch size = 4\n"
     ]
    },
    {
     "data": {
      "application/vnd.jupyter.widget-view+json": {
       "model_id": "eb38255254d44ba687ac5048d50b3bfd",
       "version_major": 2,
       "version_minor": 0
      },
      "text/plain": [
       "Epoch:   0%|          | 0/1 [00:00<?, ?it/s]"
      ]
     },
     "metadata": {},
     "output_type": "display_data"
    },
    {
     "data": {
      "application/vnd.jupyter.widget-view+json": {
       "model_id": "efd8fb8f187446f79b048d16763fa8ae",
       "version_major": 2,
       "version_minor": 0
      },
      "text/plain": [
       "Iteration:   0%|          | 0/1330 [00:00<?, ?it/s]"
      ]
     },
     "metadata": {},
     "output_type": "display_data"
    },
    {
     "name": "stderr",
     "output_type": "stream",
     "text": [
      "***** Running evaluation *****\n"
     ]
    },
    {
     "data": {
      "text/plain": [
       "{'accuracy': 0.9692307692307692}"
      ]
     },
     "execution_count": 19,
     "metadata": {},
     "output_type": "execute_result"
    }
   ],
   "source": [
    "# training and getting metrics as shows on guide(just accuracy, I guess)\n",
    "trainer.train()\n",
    "metrics = trainer.evaluate()\n",
    "metrics"
   ]
  },
  {
   "cell_type": "code",
   "execution_count": 20,
   "id": "6093b6ce",
   "metadata": {},
   "outputs": [
    {
     "data": {
      "text/html": [
       "<div>\n",
       "<style scoped>\n",
       "    .dataframe tbody tr th:only-of-type {\n",
       "        vertical-align: middle;\n",
       "    }\n",
       "\n",
       "    .dataframe tbody tr th {\n",
       "        vertical-align: top;\n",
       "    }\n",
       "\n",
       "    .dataframe thead th {\n",
       "        text-align: right;\n",
       "    }\n",
       "</style>\n",
       "<table border=\"1\" class=\"dataframe\">\n",
       "  <thead>\n",
       "    <tr style=\"text-align: right;\">\n",
       "      <th></th>\n",
       "      <th>text</th>\n",
       "      <th>label</th>\n",
       "      <th>pred</th>\n",
       "      <th>prob</th>\n",
       "    </tr>\n",
       "  </thead>\n",
       "  <tbody>\n",
       "    <tr>\n",
       "      <th>0</th>\n",
       "      <td>Hey Jerry, open the chest</td>\n",
       "      <td>0</td>\n",
       "      <td>0</td>\n",
       "      <td>0.747906</td>\n",
       "    </tr>\n",
       "    <tr>\n",
       "      <th>1</th>\n",
       "      <td>Get me item from storage</td>\n",
       "      <td>0</td>\n",
       "      <td>0</td>\n",
       "      <td>0.416102</td>\n",
       "    </tr>\n",
       "    <tr>\n",
       "      <th>2</th>\n",
       "      <td>Open that storage and get me something</td>\n",
       "      <td>0</td>\n",
       "      <td>24</td>\n",
       "      <td>0.406624</td>\n",
       "    </tr>\n",
       "    <tr>\n",
       "      <th>3</th>\n",
       "      <td>Get me diamonds from that chest</td>\n",
       "      <td>0</td>\n",
       "      <td>0</td>\n",
       "      <td>0.722323</td>\n",
       "    </tr>\n",
       "    <tr>\n",
       "      <th>4</th>\n",
       "      <td>Go to plant in the world</td>\n",
       "      <td>1</td>\n",
       "      <td>1</td>\n",
       "      <td>0.877443</td>\n",
       "    </tr>\n",
       "    <tr>\n",
       "      <th>...</th>\n",
       "      <td>...</td>\n",
       "      <td>...</td>\n",
       "      <td>...</td>\n",
       "      <td>...</td>\n",
       "    </tr>\n",
       "    <tr>\n",
       "      <th>60</th>\n",
       "      <td>Hey Jerry, cease the attack</td>\n",
       "      <td>22</td>\n",
       "      <td>22</td>\n",
       "      <td>0.813845</td>\n",
       "    </tr>\n",
       "    <tr>\n",
       "      <th>61</th>\n",
       "      <td>Hey Jerry, use this item</td>\n",
       "      <td>23</td>\n",
       "      <td>23</td>\n",
       "      <td>0.516306</td>\n",
       "    </tr>\n",
       "    <tr>\n",
       "      <th>62</th>\n",
       "      <td>Hey Jerry, close this item</td>\n",
       "      <td>24</td>\n",
       "      <td>24</td>\n",
       "      <td>0.508883</td>\n",
       "    </tr>\n",
       "    <tr>\n",
       "      <th>63</th>\n",
       "      <td>Let's close this item</td>\n",
       "      <td>24</td>\n",
       "      <td>24</td>\n",
       "      <td>0.444644</td>\n",
       "    </tr>\n",
       "    <tr>\n",
       "      <th>64</th>\n",
       "      <td>Do whatever you want</td>\n",
       "      <td>-1</td>\n",
       "      <td>8</td>\n",
       "      <td>0.157719</td>\n",
       "    </tr>\n",
       "  </tbody>\n",
       "</table>\n",
       "<p>65 rows × 4 columns</p>\n",
       "</div>"
      ],
      "text/plain": [
       "                                      text  label  pred      prob\n",
       "0                Hey Jerry, open the chest      0     0  0.747906\n",
       "1                 Get me item from storage      0     0  0.416102\n",
       "2   Open that storage and get me something      0    24  0.406624\n",
       "3          Get me diamonds from that chest      0     0  0.722323\n",
       "4                 Go to plant in the world      1     1  0.877443\n",
       "..                                     ...    ...   ...       ...\n",
       "60             Hey Jerry, cease the attack     22    22  0.813845\n",
       "61                Hey Jerry, use this item     23    23  0.516306\n",
       "62              Hey Jerry, close this item     24    24  0.508883\n",
       "63                   Let's close this item     24    24  0.444644\n",
       "64                    Do whatever you want     -1     8  0.157719\n",
       "\n",
       "[65 rows x 4 columns]"
      ]
     },
     "execution_count": 20,
     "metadata": {},
     "output_type": "execute_result"
    }
   ],
   "source": [
    "# Test/New Instance Results\n",
    "df = pd.read_csv(\"test.csv\")\n",
    "instances = df[\"text\"].to_list()\n",
    "df[\"pred\"] = model(instances)\n",
    "df[\"prob\"] = torch.max(model.predict_proba(instances), axis=1).values\n",
    "df"
   ]
  },
  {
   "cell_type": "markdown",
   "id": "14ab229c",
   "metadata": {},
   "source": [
    "Note how that last input text has very low confidence compared to the others"
   ]
  },
  {
   "cell_type": "code",
   "execution_count": 21,
   "id": "2bb7949d",
   "metadata": {},
   "outputs": [],
   "source": [
    "# Getting valid rows for evaluation / dropping -1 labels\n",
    "df = df[df.label != -1]"
   ]
  },
  {
   "cell_type": "code",
   "execution_count": 22,
   "id": "ed65a4ea",
   "metadata": {},
   "outputs": [],
   "source": [
    "from sklearn.metrics import confusion_matrix\n",
    "cm = confusion_matrix(df[\"label\"], df[\"pred\"])"
   ]
  },
  {
   "cell_type": "code",
   "execution_count": 23,
   "id": "35f15c20",
   "metadata": {},
   "outputs": [
    {
     "name": "stdout",
     "output_type": "stream",
     "text": [
      "Accuracy: 1.0\n"
     ]
    },
    {
     "data": {
      "image/png": "[encoded data removed]",
      "text/plain": [
       "<Figure size 640x480 with 2 Axes>"
      ]
     },
     "metadata": {},
     "output_type": "display_data"
    }
   ],
   "source": [
    "import seaborn as sns\n",
    "import matplotlib.pyplot as plt\n",
    "\n",
    "print(f\"Accuracy: {len(df['label']==df['pred']) / len(df)}\")\n",
    "# Just plotting for easier read\n",
    "ax = plt.subplot()\n",
    "sns.heatmap(cm, annot=True, fmt='g', ax=ax)\n",
    "ax.set_xlabel('Predicted');ax.set_ylabel('Ground Truth'); \n",
    "ax.set_title('Confusion Matrix'); \n",
    "ax.xaxis.set_ticklabels(label_names); ax.yaxis.set_ticklabels(label_names);"
   ]
  },
  {
   "cell_type": "code",
   "execution_count": 24,
   "id": "c880464b",
   "metadata": {},
   "outputs": [],
   "source": [
    "# Saving model\n",
    "trainer.model.save_pretrained(\"malmoTextClassifier\")"
   ]
  }
 ],
 "metadata": {
  "kernelspec": {
   "display_name": "Python 3 (ipykernel)",
   "language": "python",
   "name": "python3"
  },
  "language_info": {
   "codemirror_mode": {
    "name": "ipython",
    "version": 3
   },
   "file_extension": ".py",
   "mimetype": "text/x-python",
   "name": "python",
   "nbconvert_exporter": "python",
   "pygments_lexer": "ipython3",
   "version": "3.7.9"
  }
 },
 "nbformat": 4,
 "nbformat_minor": 5
}
