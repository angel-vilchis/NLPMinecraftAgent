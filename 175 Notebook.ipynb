{
 "cells": [
  {
   "cell_type": "markdown",
   "id": "668b5334",
   "metadata": {},
   "source": [
    "# Malmo Project Few-Shot Learning"
   ]
  },
  {
   "cell_type": "markdown",
   "id": "03c43fdc",
   "metadata": {},
   "source": [
    "Guide: https://huggingface.co/blog/setfit\n",
    "\n",
    "Requires Python 3.7+"
   ]
  },
  {
   "cell_type": "markdown",
   "id": "f7b2d83c",
   "metadata": {},
   "source": [
    "`pip install notebook seaborn pandas datasets setfit sentence-transformers torch torchvision torchaudio --extra-index-url https://download.pytorch.org/whl/cu116`"
   ]
  },
  {
   "cell_type": "code",
   "execution_count": 14,
   "id": "d6fba8a7",
   "metadata": {},
   "outputs": [],
   "source": [
    "import pandas as pd\n",
    "from datasets import load_dataset\n",
    "from sentence_transformers.losses import CosineSimilarityLoss\n",
    "from setfit import SetFitModel, SetFitTrainer\n",
    "import torch"
   ]
  },
  {
   "cell_type": "code",
   "execution_count": 15,
   "id": "f963b94e",
   "metadata": {},
   "outputs": [
    {
     "data": {
      "text/plain": [
       "True"
      ]
     },
     "execution_count": 15,
     "metadata": {},
     "output_type": "execute_result"
    }
   ],
   "source": [
    "# checking for gpu\n",
    "torch.cuda.is_available()"
   ]
  },
  {
   "cell_type": "code",
   "execution_count": 16,
   "id": "a515fa24",
   "metadata": {},
   "outputs": [
    {
     "data": {
      "text/html": [
       "<div>\n",
       "<style scoped>\n",
       "    .dataframe tbody tr th:only-of-type {\n",
       "        vertical-align: middle;\n",
       "    }\n",
       "\n",
       "    .dataframe tbody tr th {\n",
       "        vertical-align: top;\n",
       "    }\n",
       "\n",
       "    .dataframe thead th {\n",
       "        text-align: right;\n",
       "    }\n",
       "</style>\n",
       "<table border=\"1\" class=\"dataframe\">\n",
       "  <thead>\n",
       "    <tr style=\"text-align: right;\">\n",
       "      <th></th>\n",
       "      <th>text</th>\n",
       "      <th>label</th>\n",
       "    </tr>\n",
       "  </thead>\n",
       "  <tbody>\n",
       "    <tr>\n",
       "      <th>8</th>\n",
       "      <td>Reach the horse</td>\n",
       "      <td>2</td>\n",
       "    </tr>\n",
       "    <tr>\n",
       "      <th>7</th>\n",
       "      <td>Don't open the chest</td>\n",
       "      <td>1</td>\n",
       "    </tr>\n",
       "    <tr>\n",
       "      <th>1</th>\n",
       "      <td>Get something from the chest</td>\n",
       "      <td>0</td>\n",
       "    </tr>\n",
       "    <tr>\n",
       "      <th>6</th>\n",
       "      <td>Get plants</td>\n",
       "      <td>1</td>\n",
       "    </tr>\n",
       "    <tr>\n",
       "      <th>9</th>\n",
       "      <td>Go to the horse</td>\n",
       "      <td>2</td>\n",
       "    </tr>\n",
       "  </tbody>\n",
       "</table>\n",
       "</div>"
      ],
      "text/plain": [
       "                           text  label\n",
       "8               Reach the horse      2\n",
       "7          Don't open the chest      1\n",
       "1  Get something from the chest      0\n",
       "6                    Get plants      1\n",
       "9               Go to the horse      2"
      ]
     },
     "execution_count": 16,
     "metadata": {},
     "output_type": "execute_result"
    }
   ],
   "source": [
    "# reading csv files train and test\n",
    "dtypes = {\"text\": str, \"label\": \"int8\"}\n",
    "train_df = pd.read_csv(\"train.csv\", dtype=dtypes)\n",
    "test_df = pd.read_csv(\"test.csv\", dtype=dtypes)\n",
    "train_df.sample(5)"
   ]
  },
  {
   "cell_type": "code",
   "execution_count": 17,
   "id": "26ab3fa9",
   "metadata": {},
   "outputs": [
    {
     "name": "stderr",
     "output_type": "stream",
     "text": [
      "model_head.pkl not found on HuggingFace Hub, initialising classification head with random weights. You should TRAIN this model on a downstream task to use it for predictions and inference.\n"
     ]
    },
    {
     "data": {
      "text/plain": [
       "SetFitModel()"
      ]
     },
     "execution_count": 17,
     "metadata": {},
     "output_type": "execute_result"
    }
   ],
   "source": [
    "# loading pretrained model as guide\n",
    "model = SetFitModel.from_pretrained(\"sentence-transformers/paraphrase-mpnet-base-v2\")\n",
    "model"
   ]
  },
  {
   "cell_type": "code",
   "execution_count": 18,
   "id": "bf00c202",
   "metadata": {},
   "outputs": [
    {
     "name": "stdout",
     "output_type": "stream",
     "text": [
      "Downloading and preparing dataset csv/default to C:/Users/shah_/.cache/huggingface/datasets/csv/default-110e1c317e44e276/0.0.0/6b34fb8fcf56f7c8ba51dc895bfa2bfbe43546f190a60fcf74bb5e8afdcc2317...\n"
     ]
    },
    {
     "name": "stderr",
     "output_type": "stream",
     "text": [
      "Downloading data files: 100%|██████████████████████████████████████████████████████████| 2/2 [00:00<00:00, 2000.62it/s]\n",
      "Extracting data files: 100%|████████████████████████████████████████████████████████████| 2/2 [00:00<00:00, 333.32it/s]\n",
      "                                                        \r"
     ]
    },
    {
     "name": "stdout",
     "output_type": "stream",
     "text": [
      "Dataset csv downloaded and prepared to C:/Users/shah_/.cache/huggingface/datasets/csv/default-110e1c317e44e276/0.0.0/6b34fb8fcf56f7c8ba51dc895bfa2bfbe43546f190a60fcf74bb5e8afdcc2317. Subsequent calls will reuse this data.\n"
     ]
    },
    {
     "name": "stderr",
     "output_type": "stream",
     "text": [
      "100%|████████████████████████████████████████████████████████████████████████████████████| 2/2 [00:00<00:00, 76.92it/s]\n"
     ]
    },
    {
     "data": {
      "text/plain": [
       "DatasetDict({\n",
       "    train: Dataset({\n",
       "        features: ['text', 'label'],\n",
       "        num_rows: 12\n",
       "    })\n",
       "    test: Dataset({\n",
       "        features: ['text', 'label'],\n",
       "        num_rows: 11\n",
       "    })\n",
       "})"
      ]
     },
     "execution_count": 18,
     "metadata": {},
     "output_type": "execute_result"
    }
   ],
   "source": [
    "# loading own dataset instead of the one in the guide\n",
    "data_files = {\"train\": \"train.csv\", \"test\": \"test.csv\"}\n",
    "dataset = load_dataset(\"csv\", data_files=data_files)\n",
    "dataset"
   ]
  },
  {
   "cell_type": "code",
   "execution_count": 19,
   "id": "3c61343a",
   "metadata": {},
   "outputs": [],
   "source": [
    "# building trainer as guide shows\n",
    "trainer = SetFitTrainer(\n",
    "    model=model,\n",
    "    train_dataset=dataset[\"train\"],\n",
    "    eval_dataset=dataset[\"test\"],\n",
    "    loss_class=CosineSimilarityLoss,\n",
    "    batch_size=4,\n",
    "    num_iterations=20, # Number of text pairs to generate for contrastive learning\n",
    "    num_epochs=1 # Number of epochs to use for contrastive learning\n",
    ")"
   ]
  },
  {
   "cell_type": "code",
   "execution_count": 20,
   "id": "1f96d7ac",
   "metadata": {
    "scrolled": false
   },
   "outputs": [
    {
     "name": "stderr",
     "output_type": "stream",
     "text": [
      "***** Running training *****\n",
      "  Num examples = 480\n",
      "  Num epochs = 1\n",
      "  Total optimization steps = 120\n",
      "  Total train batch size = 4\n",
      "Epoch:   0%|                                                                                     | 0/1 [00:00<?, ?it/s]\n",
      "Iteration:   0%|                                                                               | 0/120 [00:00<?, ?it/s]\u001b[A\n",
      "Iteration:   1%|▌                                                                      | 1/120 [00:00<00:23,  5.00it/s]\u001b[A\n",
      "Iteration:   2%|█▏                                                                     | 2/120 [00:00<00:24,  4.90it/s]\u001b[A\n",
      "Iteration:   2%|█▊                                                                     | 3/120 [00:00<00:21,  5.41it/s]\u001b[A\n",
      "Iteration:   3%|██▎                                                                    | 4/120 [00:00<00:20,  5.76it/s]\u001b[A\n",
      "Iteration:   4%|██▉                                                                    | 5/120 [00:00<00:19,  5.93it/s]\u001b[A\n",
      "Iteration:   5%|███▌                                                                   | 6/120 [00:01<00:18,  6.07it/s]\u001b[A\n",
      "Iteration:   6%|████▏                                                                  | 7/120 [00:01<00:18,  6.21it/s]\u001b[A\n",
      "Iteration:   7%|████▋                                                                  | 8/120 [00:01<00:17,  6.29it/s]\u001b[A\n",
      "Iteration:   8%|█████▎                                                                 | 9/120 [00:01<00:17,  6.37it/s]\u001b[A\n",
      "Iteration:   8%|█████▊                                                                | 10/120 [00:01<00:17,  6.36it/s]\u001b[A\n",
      "Iteration:   9%|██████▍                                                               | 11/120 [00:01<00:16,  6.46it/s]\u001b[A\n",
      "Iteration:  10%|███████                                                               | 12/120 [00:01<00:16,  6.49it/s]\u001b[A\n",
      "Iteration:  11%|███████▌                                                              | 13/120 [00:02<00:16,  6.53it/s]\u001b[A\n",
      "Iteration:  12%|████████▏                                                             | 14/120 [00:02<00:16,  6.44it/s]\u001b[A\n",
      "Iteration:  12%|████████▊                                                             | 15/120 [00:02<00:16,  6.52it/s]\u001b[A\n",
      "Iteration:  13%|█████████▎                                                            | 16/120 [00:02<00:15,  6.55it/s]\u001b[A\n",
      "Iteration:  14%|█████████▉                                                            | 17/120 [00:02<00:15,  6.57it/s]\u001b[A\n",
      "Iteration:  15%|██████████▌                                                           | 18/120 [00:02<00:15,  6.57it/s]\u001b[A\n",
      "Iteration:  16%|███████████                                                           | 19/120 [00:02<00:15,  6.61it/s]\u001b[A\n",
      "Iteration:  17%|███████████▋                                                          | 20/120 [00:03<00:15,  6.59it/s]\u001b[A\n",
      "Iteration:  18%|████████████▎                                                         | 21/120 [00:03<00:14,  6.60it/s]\u001b[A\n",
      "Iteration:  18%|████████████▊                                                         | 22/120 [00:03<00:14,  6.60it/s]\u001b[A\n",
      "Iteration:  19%|█████████████▍                                                        | 23/120 [00:03<00:14,  6.62it/s]\u001b[A\n",
      "Iteration:  20%|██████████████                                                        | 24/120 [00:03<00:14,  6.58it/s]\u001b[A\n",
      "Iteration:  21%|██████████████▌                                                       | 25/120 [00:03<00:14,  6.64it/s]\u001b[A\n",
      "Iteration:  22%|███████████████▏                                                      | 26/120 [00:03<00:14,  6.64it/s]\u001b[A\n",
      "Iteration:  22%|███████████████▊                                                      | 27/120 [00:04<00:13,  6.65it/s]\u001b[A\n",
      "Iteration:  23%|████████████████▎                                                     | 28/120 [00:04<00:13,  6.67it/s]\u001b[A\n",
      "Iteration:  24%|████████████████▉                                                     | 29/120 [00:04<00:13,  6.66it/s]\u001b[A\n",
      "Iteration:  25%|█████████████████▌                                                    | 30/120 [00:04<00:13,  6.66it/s]\u001b[A\n",
      "Iteration:  26%|██████████████████                                                    | 31/120 [00:04<00:13,  6.66it/s]\u001b[A\n",
      "Iteration:  27%|██████████████████▋                                                   | 32/120 [00:04<00:13,  6.67it/s]\u001b[A\n",
      "Iteration:  28%|███████████████████▎                                                  | 33/120 [00:05<00:13,  6.67it/s]\u001b[A\n",
      "Iteration:  28%|███████████████████▊                                                  | 34/120 [00:05<00:12,  6.67it/s]\u001b[A\n",
      "Iteration:  29%|████████████████████▍                                                 | 35/120 [00:05<00:12,  6.67it/s]\u001b[A\n",
      "Iteration:  30%|█████████████████████                                                 | 36/120 [00:05<00:12,  6.63it/s]\u001b[A\n",
      "Iteration:  31%|█████████████████████▌                                                | 37/120 [00:05<00:12,  6.63it/s]\u001b[A\n",
      "Iteration:  32%|██████████████████████▏                                               | 38/120 [00:05<00:12,  6.63it/s]\u001b[A\n",
      "Iteration:  32%|██████████████████████▊                                               | 39/120 [00:05<00:12,  6.65it/s]\u001b[A\n",
      "Iteration:  33%|███████████████████████▎                                              | 40/120 [00:06<00:12,  6.66it/s]\u001b[A\n",
      "Iteration:  34%|███████████████████████▉                                              | 41/120 [00:06<00:11,  6.68it/s]\u001b[A\n",
      "Iteration:  35%|████████████████████████▌                                             | 42/120 [00:06<00:11,  6.67it/s]\u001b[A\n",
      "Iteration:  36%|█████████████████████████                                             | 43/120 [00:06<00:11,  6.70it/s]\u001b[A\n",
      "Iteration:  37%|█████████████████████████▋                                            | 44/120 [00:06<00:11,  6.69it/s]\u001b[A\n",
      "Iteration:  38%|██████████████████████████▎                                           | 45/120 [00:06<00:11,  6.68it/s]\u001b[A\n",
      "Iteration:  38%|██████████████████████████▊                                           | 46/120 [00:06<00:11,  6.69it/s]\u001b[A\n",
      "Iteration:  39%|███████████████████████████▍                                          | 47/120 [00:07<00:10,  6.70it/s]\u001b[A\n",
      "Iteration:  40%|████████████████████████████                                          | 48/120 [00:07<00:10,  6.70it/s]\u001b[A\n",
      "Iteration:  41%|████████████████████████████▌                                         | 49/120 [00:07<00:10,  6.71it/s]\u001b[A\n",
      "Iteration:  42%|█████████████████████████████▏                                        | 50/120 [00:07<00:10,  6.73it/s]\u001b[A\n",
      "Iteration:  42%|█████████████████████████████▊                                        | 51/120 [00:07<00:10,  6.74it/s]\u001b[A\n",
      "Iteration:  43%|██████████████████████████████▎                                       | 52/120 [00:07<00:10,  6.75it/s]\u001b[A\n",
      "Iteration:  44%|██████████████████████████████▉                                       | 53/120 [00:07<00:09,  6.76it/s]\u001b[A\n",
      "Iteration:  45%|███████████████████████████████▌                                      | 54/120 [00:08<00:09,  6.75it/s]\u001b[A\n",
      "Iteration:  46%|████████████████████████████████                                      | 55/120 [00:08<00:09,  6.74it/s]\u001b[A\n",
      "Iteration:  47%|████████████████████████████████▋                                     | 56/120 [00:08<00:09,  6.74it/s]\u001b[A\n",
      "Iteration:  48%|█████████████████████████████████▎                                    | 57/120 [00:08<00:09,  6.75it/s]\u001b[A\n",
      "Iteration:  48%|█████████████████████████████████▊                                    | 58/120 [00:08<00:09,  6.74it/s]\u001b[A\n",
      "Iteration:  49%|██████████████████████████████████▍                                   | 59/120 [00:08<00:09,  6.75it/s]\u001b[A\n",
      "Iteration:  50%|███████████████████████████████████                                   | 60/120 [00:09<00:08,  6.74it/s]\u001b[A\n",
      "Iteration:  51%|███████████████████████████████████▌                                  | 61/120 [00:09<00:08,  6.74it/s]\u001b[A\n",
      "Iteration:  52%|████████████████████████████████████▏                                 | 62/120 [00:09<00:08,  6.74it/s]\u001b[A\n",
      "Iteration:  52%|████████████████████████████████████▊                                 | 63/120 [00:09<00:08,  6.74it/s]\u001b[A\n"
     ]
    },
    {
     "name": "stderr",
     "output_type": "stream",
     "text": [
      "Iteration:  53%|█████████████████████████████████████▎                                | 64/120 [00:09<00:08,  6.73it/s]\u001b[A\n",
      "Iteration:  54%|█████████████████████████████████████▉                                | 65/120 [00:09<00:08,  6.73it/s]\u001b[A\n",
      "Iteration:  55%|██████████████████████████████████████▌                               | 66/120 [00:09<00:08,  6.74it/s]\u001b[A\n",
      "Iteration:  56%|███████████████████████████████████████                               | 67/120 [00:10<00:07,  6.75it/s]\u001b[A\n",
      "Iteration:  57%|███████████████████████████████████████▋                              | 68/120 [00:10<00:07,  6.76it/s]\u001b[A\n",
      "Iteration:  57%|████████████████████████████████████████▎                             | 69/120 [00:10<00:07,  6.77it/s]\u001b[A\n",
      "Iteration:  58%|████████████████████████████████████████▊                             | 70/120 [00:10<00:07,  6.76it/s]\u001b[A\n",
      "Iteration:  59%|█████████████████████████████████████████▍                            | 71/120 [00:10<00:07,  6.77it/s]\u001b[A\n",
      "Iteration:  60%|██████████████████████████████████████████                            | 72/120 [00:10<00:07,  6.78it/s]\u001b[A\n",
      "Iteration:  61%|██████████████████████████████████████████▌                           | 73/120 [00:10<00:06,  6.78it/s]\u001b[A\n",
      "Iteration:  62%|███████████████████████████████████████████▏                          | 74/120 [00:11<00:06,  6.80it/s]\u001b[A\n",
      "Iteration:  62%|███████████████████████████████████████████▊                          | 75/120 [00:11<00:06,  6.79it/s]\u001b[A\n",
      "Iteration:  63%|████████████████████████████████████████████▎                         | 76/120 [00:11<00:06,  6.81it/s]\u001b[A\n",
      "Iteration:  64%|████████████████████████████████████████████▉                         | 77/120 [00:11<00:06,  6.77it/s]\u001b[A\n",
      "Iteration:  65%|█████████████████████████████████████████████▌                        | 78/120 [00:11<00:06,  6.77it/s]\u001b[A\n",
      "Iteration:  66%|██████████████████████████████████████████████                        | 79/120 [00:11<00:06,  6.76it/s]\u001b[A\n",
      "Iteration:  67%|██████████████████████████████████████████████▋                       | 80/120 [00:11<00:05,  6.76it/s]\u001b[A\n",
      "Iteration:  68%|███████████████████████████████████████████████▎                      | 81/120 [00:12<00:05,  6.77it/s]\u001b[A\n",
      "Iteration:  68%|███████████████████████████████████████████████▊                      | 82/120 [00:12<00:05,  6.73it/s]\u001b[A\n",
      "Iteration:  69%|████████████████████████████████████████████████▍                     | 83/120 [00:12<00:05,  6.76it/s]\u001b[A\n",
      "Iteration:  70%|█████████████████████████████████████████████████                     | 84/120 [00:12<00:05,  6.76it/s]\u001b[A\n",
      "Iteration:  71%|█████████████████████████████████████████████████▌                    | 85/120 [00:12<00:05,  6.76it/s]\u001b[A\n",
      "Iteration:  72%|██████████████████████████████████████████████████▏                   | 86/120 [00:12<00:05,  6.77it/s]\u001b[A\n",
      "Iteration:  72%|██████████████████████████████████████████████████▊                   | 87/120 [00:12<00:04,  6.78it/s]\u001b[A\n",
      "Iteration:  73%|███████████████████████████████████████████████████▎                  | 88/120 [00:13<00:04,  6.75it/s]\u001b[A\n",
      "Iteration:  74%|███████████████████████████████████████████████████▉                  | 89/120 [00:13<00:04,  6.75it/s]\u001b[A\n",
      "Iteration:  75%|████████████████████████████████████████████████████▌                 | 90/120 [00:13<00:04,  6.76it/s]\u001b[A\n",
      "Iteration:  76%|█████████████████████████████████████████████████████                 | 91/120 [00:13<00:04,  6.75it/s]\u001b[A\n",
      "Iteration:  77%|█████████████████████████████████████████████████████▋                | 92/120 [00:13<00:04,  6.74it/s]\u001b[A\n",
      "Iteration:  78%|██████████████████████████████████████████████████████▎               | 93/120 [00:13<00:03,  6.76it/s]\u001b[A\n",
      "Iteration:  78%|██████████████████████████████████████████████████████▊               | 94/120 [00:14<00:03,  6.76it/s]\u001b[A\n",
      "Iteration:  79%|███████████████████████████████████████████████████████▍              | 95/120 [00:14<00:03,  6.76it/s]\u001b[A\n",
      "Iteration:  80%|████████████████████████████████████████████████████████              | 96/120 [00:14<00:03,  6.77it/s]\u001b[A\n",
      "Iteration:  81%|████████████████████████████████████████████████████████▌             | 97/120 [00:14<00:03,  6.77it/s]\u001b[A\n",
      "Iteration:  82%|█████████████████████████████████████████████████████████▏            | 98/120 [00:14<00:03,  6.78it/s]\u001b[A\n",
      "Iteration:  82%|█████████████████████████████████████████████████████████▊            | 99/120 [00:14<00:03,  6.79it/s]\u001b[A\n",
      "Iteration:  83%|█████████████████████████████████████████████████████████▌           | 100/120 [00:14<00:02,  6.79it/s]\u001b[A\n",
      "Iteration:  84%|██████████████████████████████████████████████████████████           | 101/120 [00:15<00:02,  6.79it/s]\u001b[A\n",
      "Iteration:  85%|██████████████████████████████████████████████████████████▋          | 102/120 [00:15<00:02,  6.80it/s]\u001b[A\n",
      "Iteration:  86%|███████████████████████████████████████████████████████████▏         | 103/120 [00:15<00:02,  6.81it/s]\u001b[A\n",
      "Iteration:  87%|███████████████████████████████████████████████████████████▊         | 104/120 [00:15<00:02,  6.81it/s]\u001b[A\n",
      "Iteration:  88%|████████████████████████████████████████████████████████████▍        | 105/120 [00:15<00:02,  6.80it/s]\u001b[A\n",
      "Iteration:  88%|████████████████████████████████████████████████████████████▉        | 106/120 [00:15<00:02,  6.79it/s]\u001b[A\n",
      "Iteration:  89%|█████████████████████████████████████████████████████████████▌       | 107/120 [00:15<00:01,  6.81it/s]\u001b[A\n",
      "Iteration:  90%|██████████████████████████████████████████████████████████████       | 108/120 [00:16<00:01,  6.82it/s]\u001b[A\n",
      "Iteration:  91%|██████████████████████████████████████████████████████████████▋      | 109/120 [00:16<00:01,  6.81it/s]\u001b[A\n",
      "Iteration:  92%|███████████████████████████████████████████████████████████████▎     | 110/120 [00:16<00:01,  6.83it/s]\u001b[A\n",
      "Iteration:  92%|███████████████████████████████████████████████████████████████▊     | 111/120 [00:16<00:01,  6.83it/s]\u001b[A\n",
      "Iteration:  93%|████████████████████████████████████████████████████████████████▍    | 112/120 [00:16<00:01,  6.83it/s]\u001b[A\n",
      "Iteration:  94%|████████████████████████████████████████████████████████████████▉    | 113/120 [00:16<00:01,  6.80it/s]\u001b[A\n",
      "Iteration:  95%|█████████████████████████████████████████████████████████████████▌   | 114/120 [00:16<00:00,  6.81it/s]\u001b[A\n",
      "Iteration:  96%|██████████████████████████████████████████████████████████████████▏  | 115/120 [00:17<00:00,  6.82it/s]\u001b[A\n",
      "Iteration:  97%|██████████████████████████████████████████████████████████████████▋  | 116/120 [00:17<00:00,  6.83it/s]\u001b[A\n",
      "Iteration:  98%|███████████████████████████████████████████████████████████████████▎ | 117/120 [00:17<00:00,  6.83it/s]\u001b[A\n",
      "Iteration:  98%|███████████████████████████████████████████████████████████████████▊ | 118/120 [00:17<00:00,  6.78it/s]\u001b[A\n",
      "Iteration:  99%|████████████████████████████████████████████████████████████████████▍| 119/120 [00:17<00:00,  6.80it/s]\u001b[A\n",
      "Iteration: 100%|█████████████████████████████████████████████████████████████████████| 120/120 [00:17<00:00,  6.73it/s]\u001b[A\n",
      "Epoch: 100%|█████████████████████████████████████████████████████████████████████████████| 1/1 [00:17<00:00, 17.83s/it]\n",
      "***** Running evaluation *****\n"
     ]
    },
    {
     "data": {
      "text/plain": [
       "{'accuracy': 0.7272727272727273}"
      ]
     },
     "execution_count": 20,
     "metadata": {},
     "output_type": "execute_result"
    }
   ],
   "source": [
    "# training and getting metrics as shows on guide(just accuracy, I guess)\n",
    "trainer.train()\n",
    "metrics = trainer.evaluate()\n",
    "metrics"
   ]
  },
  {
   "cell_type": "code",
   "execution_count": 21,
   "id": "6093b6ce",
   "metadata": {},
   "outputs": [
    {
     "data": {
      "text/html": [
       "<div>\n",
       "<style scoped>\n",
       "    .dataframe tbody tr th:only-of-type {\n",
       "        vertical-align: middle;\n",
       "    }\n",
       "\n",
       "    .dataframe tbody tr th {\n",
       "        vertical-align: top;\n",
       "    }\n",
       "\n",
       "    .dataframe thead th {\n",
       "        text-align: right;\n",
       "    }\n",
       "</style>\n",
       "<table border=\"1\" class=\"dataframe\">\n",
       "  <thead>\n",
       "    <tr style=\"text-align: right;\">\n",
       "      <th></th>\n",
       "      <th>text</th>\n",
       "      <th>label</th>\n",
       "      <th>pred</th>\n",
       "      <th>prob</th>\n",
       "    </tr>\n",
       "  </thead>\n",
       "  <tbody>\n",
       "    <tr>\n",
       "      <th>0</th>\n",
       "      <td>Get me item from storage</td>\n",
       "      <td>0</td>\n",
       "      <td>0</td>\n",
       "      <td>0.806165</td>\n",
       "    </tr>\n",
       "    <tr>\n",
       "      <th>1</th>\n",
       "      <td>Retrieve an item</td>\n",
       "      <td>0</td>\n",
       "      <td>0</td>\n",
       "      <td>0.744045</td>\n",
       "    </tr>\n",
       "    <tr>\n",
       "      <th>2</th>\n",
       "      <td>Interact with the chest</td>\n",
       "      <td>0</td>\n",
       "      <td>0</td>\n",
       "      <td>0.941947</td>\n",
       "    </tr>\n",
       "    <tr>\n",
       "      <th>3</th>\n",
       "      <td>Open that storage and get me something</td>\n",
       "      <td>0</td>\n",
       "      <td>0</td>\n",
       "      <td>0.736200</td>\n",
       "    </tr>\n",
       "    <tr>\n",
       "      <th>4</th>\n",
       "      <td>Get me an item from nature</td>\n",
       "      <td>1</td>\n",
       "      <td>0</td>\n",
       "      <td>0.700774</td>\n",
       "    </tr>\n",
       "    <tr>\n",
       "      <th>5</th>\n",
       "      <td>Break an item</td>\n",
       "      <td>1</td>\n",
       "      <td>0</td>\n",
       "      <td>0.529477</td>\n",
       "    </tr>\n",
       "    <tr>\n",
       "      <th>6</th>\n",
       "      <td>Break that plant</td>\n",
       "      <td>1</td>\n",
       "      <td>1</td>\n",
       "      <td>0.934219</td>\n",
       "    </tr>\n",
       "    <tr>\n",
       "      <th>7</th>\n",
       "      <td>Remove plant</td>\n",
       "      <td>1</td>\n",
       "      <td>1</td>\n",
       "      <td>0.927302</td>\n",
       "    </tr>\n",
       "    <tr>\n",
       "      <th>8</th>\n",
       "      <td>Extract plant</td>\n",
       "      <td>1</td>\n",
       "      <td>1</td>\n",
       "      <td>0.897149</td>\n",
       "    </tr>\n",
       "    <tr>\n",
       "      <th>9</th>\n",
       "      <td>Do whatever you want</td>\n",
       "      <td>-1</td>\n",
       "      <td>0</td>\n",
       "      <td>0.636214</td>\n",
       "    </tr>\n",
       "    <tr>\n",
       "      <th>10</th>\n",
       "      <td>Go to horse</td>\n",
       "      <td>2</td>\n",
       "      <td>2</td>\n",
       "      <td>0.944648</td>\n",
       "    </tr>\n",
       "  </tbody>\n",
       "</table>\n",
       "</div>"
      ],
      "text/plain": [
       "                                      text  label  pred      prob\n",
       "0                 Get me item from storage      0     0  0.806165\n",
       "1                         Retrieve an item      0     0  0.744045\n",
       "2                  Interact with the chest      0     0  0.941947\n",
       "3   Open that storage and get me something      0     0  0.736200\n",
       "4               Get me an item from nature      1     0  0.700774\n",
       "5                            Break an item      1     0  0.529477\n",
       "6                         Break that plant      1     1  0.934219\n",
       "7                             Remove plant      1     1  0.927302\n",
       "8                            Extract plant      1     1  0.897149\n",
       "9                     Do whatever you want     -1     0  0.636214\n",
       "10                             Go to horse      2     2  0.944648"
      ]
     },
     "execution_count": 21,
     "metadata": {},
     "output_type": "execute_result"
    }
   ],
   "source": [
    "# Test/New Instance Results\n",
    "df = pd.read_csv(\"test.csv\")\n",
    "instances = df[\"text\"].to_list()\n",
    "df[\"pred\"] = model(instances)\n",
    "df[\"prob\"] = torch.max(model.predict_proba(instances), axis=1).values\n",
    "df"
   ]
  },
  {
   "cell_type": "markdown",
   "id": "14ab229c",
   "metadata": {},
   "source": [
    "Note how that last input text has very low confidence compared to the others"
   ]
  },
  {
   "cell_type": "code",
   "execution_count": 22,
   "id": "2bb7949d",
   "metadata": {},
   "outputs": [],
   "source": [
    "# Getting valid rows for evaluation / dropping -1 labels\n",
    "df = df[df.label != -1]"
   ]
  },
  {
   "cell_type": "code",
   "execution_count": 23,
   "id": "ed65a4ea",
   "metadata": {},
   "outputs": [],
   "source": [
    "from sklearn.metrics import confusion_matrix\n",
    "cm = confusion_matrix(df[\"label\"], df[\"pred\"])"
   ]
  },
  {
   "cell_type": "code",
   "execution_count": 24,
   "id": "35f15c20",
   "metadata": {},
   "outputs": [
    {
     "name": "stdout",
     "output_type": "stream",
     "text": [
      "{'accuracy': 0.7272727272727273}\n"
     ]
    },
    {
     "data": {
      "image/png": "[encoded data removed]",
      "text/plain": [
       "<Figure size 640x480 with 2 Axes>"
      ]
     },
     "metadata": {},
     "output_type": "display_data"
    }
   ],
   "source": [
    "import seaborn as sns\n",
    "import matplotlib.pyplot as plt\n",
    "\n",
    "print(metrics)\n",
    "# Just plotting for easier read\n",
    "ax = plt.subplot()\n",
    "sns.heatmap(cm, annot=True, fmt='g', ax=ax)\n",
    "ax.set_xlabel('Predicted');ax.set_ylabel('Ground Truth'); \n",
    "ax.set_title('Confusion Matrix'); \n",
    "ax.xaxis.set_ticklabels(['Chest Task', 'Plant Task', 'Horse Task']); ax.yaxis.set_ticklabels(['Chest Task', 'Plant Task', 'Horse Task']);"
   ]
  },
  {
   "cell_type": "code",
   "execution_count": 25,
   "id": "c880464b",
   "metadata": {},
   "outputs": [],
   "source": [
    "# Saving model\n",
    "trainer.model.save_pretrained(\"malmoTextClassifier\")"
   ]
  },
  {
   "cell_type": "code",
   "execution_count": null,
   "id": "4d43d0ac",
   "metadata": {},
   "outputs": [],
   "source": []
  }
 ],
 "metadata": {
  "kernelspec": {
   "display_name": "Python 3 (ipykernel)",
   "language": "python",
   "name": "python3"
  },
  "language_info": {
   "codemirror_mode": {
    "name": "ipython",
    "version": 3
   },
   "file_extension": ".py",
   "mimetype": "text/x-python",
   "name": "python",
   "nbconvert_exporter": "python",
   "pygments_lexer": "ipython3",
   "version": "3.7.9"
  }
 },
 "nbformat": 4,
 "nbformat_minor": 5
}
